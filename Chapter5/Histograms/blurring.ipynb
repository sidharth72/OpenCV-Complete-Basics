{
 "cells": [
  {
   "cell_type": "markdown",
   "metadata": {},
   "source": [
    "# **Blurring**\n",
    "\n",
    "Blurring is simple as an image becoming noisy and the visuals are not so visible. What actually happens in blurring is the fact that we are essentially averaging the pixel values. The pixel values near other pixels are selected and averaged to form a intensity which is used to replace the current pixel intensity, wen we do this for all the pixels, we'll get a blurred image. There are many ways we can do blurring,\n",
    "\n",
    "* Gaussian Blur\n",
    "* Convolution\n",
    "* Box Blur\n",
    "* Median Blur"
   ]
  },
  {
   "cell_type": "code",
   "execution_count": 18,
   "metadata": {},
   "outputs": [],
   "source": [
    "import cv2 as cv\n",
    "import numpy as np\n",
    "\n",
    "def trackbar(x):\n",
    "    if x % 2 == 0:\n",
    "        x += 1\n",
    "    \n",
    "    kernel_size = (x, x)\n",
    "    blurred_img = cv.GaussianBlur(img, kernel_size, sigmaX=0) # sigmaX for standard deviation\n",
    "    stacked_img = np.hstack([img, blurred_img])\n",
    "    cv.imshow('window', stacked_img)\n",
    "\n",
    "\n",
    "img = cv.imread('D:/OpenCV2/Assets/newton.jpg')\n",
    "cv.imshow('window', img)\n",
    "cv.createTrackbar('trackbar', 'window', 2, 50, trackbar)\n",
    "\n",
    "cv.waitKey(0)\n",
    "cv.destroyAllWindows()"
   ]
  },
  {
   "cell_type": "code",
   "execution_count": null,
   "metadata": {},
   "outputs": [],
   "source": []
  }
 ],
 "metadata": {
  "kernelspec": {
   "display_name": "cv-dev",
   "language": "python",
   "name": "python3"
  },
  "language_info": {
   "codemirror_mode": {
    "name": "ipython",
    "version": 3
   },
   "file_extension": ".py",
   "mimetype": "text/x-python",
   "name": "python",
   "nbconvert_exporter": "python",
   "pygments_lexer": "ipython3",
   "version": "3.11.6"
  }
 },
 "nbformat": 4,
 "nbformat_minor": 2
}
