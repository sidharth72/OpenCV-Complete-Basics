{
 "cells": [
  {
   "cell_type": "markdown",
   "metadata": {},
   "source": [
    "# **1. Thresholding**\n",
    "\n",
    "Threhsolding is a simple yet powerful technique used in computer vision for segmenting or seperating specific parts of an image based on a threhold. It is commonly applied on grayscale images and the idea is to convert a grayscale or color image to binary image based on a threshold, where each pixel is classified as either in the foreground or in the background.\n",
    "\n",
    "Thresholding can be useful in many case, some of the include:\n",
    "\n",
    "* **Segmenting**: It can be used for segmenting some part of the image which is important, for example we can segment cancer cells from a image that contains the organs where cancer is attacked.\n",
    "* **Object Detection**: Thresholding plays an important role in object detection, where we can detect an object based on its appearance in the foreground or background, specific threshold values can be used for detecting object in new images by training a model to understand which threshold.\n"
   ]
  },
  {
   "cell_type": "markdown",
   "metadata": {},
   "source": [
    "## **1.1 Simple Binary Thresholding**"
   ]
  },
  {
   "cell_type": "code",
   "execution_count": 1,
   "metadata": {},
   "outputs": [],
   "source": [
    "import cv2 as cv\n",
    "import numpy as np\n",
    "\n",
    "img = cv.imread('D:/OpenCV2/Assets/skincancer.png')\n",
    "\n",
    "def trackbar(x):\n",
    "    threshold_value = x\n",
    "    max_value = 255\n",
    "    _, threshold_img = cv.threshold(img, thresh=threshold_value, maxval=max_value, type=cv.THRESH_BINARY)\n",
    "    cv.imshow('window', threshold_img)\n",
    "\n",
    "cv.imshow('window', img)\n",
    "cv.createTrackbar('threshold', 'window', 2, 255, trackbar)\n",
    "cv.waitKey(0)\n",
    "cv.destroyAllWindows()"
   ]
  },
  {
   "cell_type": "markdown",
   "metadata": {},
   "source": [
    "## **1.2 Zero Thresholding**\n",
    "\n",
    "Zero thresholding is simple as making the pixel values zero when they are under a certain threshold. It is also called zeroing"
   ]
  },
  {
   "cell_type": "code",
   "execution_count": 2,
   "metadata": {},
   "outputs": [],
   "source": [
    "img = cv.imread('D:/OpenCV2/Assets/skincancer.png')\n",
    "\n",
    "def trackbar(x):\n",
    "    threshold_value = x\n",
    "    max_value = 255\n",
    "    _, threshold_img = cv.threshold(img, thresh=threshold_value, maxval=max_value, type=cv.THRESH_TOZERO)\n",
    "    cv.imshow('window', threshold_img)\n",
    "\n",
    "cv.imshow('window', img)\n",
    "cv.createTrackbar('threshold', 'window', 2, 255, trackbar)\n",
    "cv.waitKey(0)\n",
    "cv.destroyAllWindows()"
   ]
  },
  {
   "cell_type": "markdown",
   "metadata": {},
   "source": [
    "## **1.3 Adaptive Thresholding**\n",
    "\n",
    "Adaptive thresholding is a technique in which the threshold value for seperating different parts of the image is determinted automatically by analyzing the surrounding local neighborhood pixels. \n",
    "\n",
    "The process of binarizing an image involves calculating the average value of the pixels in a particular region of the image. This average value is then used as a threshold to determine which pixels should be classified as background and which ones as foreground. Pixels with a density lower than the average threshold are classified as background, while those with a density higher than the threshold are classified as foreground."
   ]
  },
  {
   "cell_type": "code",
   "execution_count": 7,
   "metadata": {},
   "outputs": [],
   "source": [
    "img = cv.imread('D:/OpenCV2/Assets/skincancer.png')\n",
    "\n",
    "gray = cv.cvtColor(img, cv.COLOR_BGR2GRAY)\n",
    "\n",
    "adaptive_threshold_img = cv.adaptiveThreshold(gray, maxValue = 255, adaptiveMethod=cv.ADAPTIVE_THRESH_MEAN_C, thresholdType=cv.THRESH_BINARY, blockSize=11, C = 2)\n",
    "\n",
    "cv.imshow('window', adaptive_threshold_img)\n",
    "\n",
    "cv.waitKey(0)\n",
    "cv.destroyAllWindows()"
   ]
  },
  {
   "cell_type": "markdown",
   "metadata": {},
   "source": [
    "## **1.4 2D Convolution**\n",
    "\n",
    "Convolution is a widely used mathematical operation in image processing. It has various applications such as smoothing, feature extraction, blurring, and more. This operation requires a kernel which is undergone and operation called Convolution on each slides of pixels that of the same size as the kernel. Depending on the kernel used, different effects can be produced on the resulting image."
   ]
  },
  {
   "cell_type": "code",
   "execution_count": 17,
   "metadata": {},
   "outputs": [
    {
     "name": "stdout",
     "output_type": "stream",
     "text": [
      "[[0.04 0.04 0.04 0.04 0.04]\n",
      " [0.04 0.04 0.04 0.04 0.04]\n",
      " [0.04 0.04 0.04 0.04 0.04]\n",
      " [0.04 0.04 0.04 0.04 0.04]\n",
      " [0.04 0.04 0.04 0.04 0.04]]\n"
     ]
    }
   ],
   "source": [
    "img = cv.imread('D:/OpenCV2/Assets/newton.jpg')\n",
    "\n",
    "kernel = np.ones((5, 5), 'float32') / 25\n",
    "print(kernel)\n",
    "\n",
    "convolved_image = cv.filter2D(img, -1, kernel = kernel)\n",
    "\n",
    "cv.imshow('window', convolved_image)\n",
    "\n",
    "cv.waitKey(0)\n",
    "cv.destroyAllWindows()\n"
   ]
  },
  {
   "cell_type": "code",
   "execution_count": null,
   "metadata": {},
   "outputs": [],
   "source": []
  }
 ],
 "metadata": {
  "kernelspec": {
   "display_name": "cv-dev",
   "language": "python",
   "name": "python3"
  },
  "language_info": {
   "codemirror_mode": {
    "name": "ipython",
    "version": 3
   },
   "file_extension": ".py",
   "mimetype": "text/x-python",
   "name": "python",
   "nbconvert_exporter": "python",
   "pygments_lexer": "ipython3",
   "version": "3.11.6"
  }
 },
 "nbformat": 4,
 "nbformat_minor": 2
}
