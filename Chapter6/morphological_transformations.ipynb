{
 "cells": [
  {
   "cell_type": "markdown",
   "metadata": {},
   "source": [
    "## **1. Morphological Transformations**\n",
    "\n",
    "Morphological operations in computer vision are indeed a set of mathematical operations derived from the principles of morphology, which study the shapes and structures of objects. Morphological transformations are valuable in various scenarios such as noise removal from images, edge detection, segmentation, and shape analysis.\n",
    "\n",
    "Two type of morphological transformation in computer vision involves:\n",
    "\n",
    "* **Dilation**\n",
    "* **Erosion**"
   ]
  },
  {
   "cell_type": "markdown",
   "metadata": {},
   "source": [
    "## **1.2 Dilation**\n",
    "\n",
    "Dilation is a morphological transformation that expands the structure of an image from thinner to thicker. It is commonly used to expand the boundaries of binary or grayscale images. \n",
    "\n",
    "To perform dilation, a kernel is applied to the image and slides over the window. The maximum value of the pixels within the kernel's region is selected and used to fill each pixel. This effectively expands the boundaries of the image. \n",
    "\n",
    "The size of the dilation kernel determines the extent of expansion. The larger the kernel, the greater the expansion."
   ]
  },
  {
   "cell_type": "markdown",
   "metadata": {},
   "source": []
  },
  {
   "cell_type": "code",
   "execution_count": 11,
   "metadata": {},
   "outputs": [],
   "source": [
    "import cv2 as cv\n",
    "import numpy as np\n",
    "\n",
    "\n",
    "def trackbar(x):\n",
    "    n = 2 * x + 1\n",
    "    kernel = np.ones((n , n), np.uint8)\n",
    "    dilated_img = cv.dilate(img, kernel, iterations = 1)\n",
    "    stacked_img = np.hstack([img, dilated_img])\n",
    "    cv.imshow('window', stacked_img)\n",
    "\n",
    "img = cv.imread('D:/OpenCV/Assets/newton.jpg', cv.IMREAD_GRAYSCALE)\n",
    "cv.imshow('window', img)\n",
    "cv.createTrackbar('trackbar', 'window', 2, 50, trackbar)\n",
    "cv.waitKey(0)\n",
    "\n",
    "cv.destroyAllWindows()"
   ]
  },
  {
   "cell_type": "markdown",
   "metadata": {},
   "source": [
    "## **1.3 Erosion**\n",
    "\n",
    "Erosion is just the opposite of Dilation where the shrinks or thins the boundaries of the image making the image more thinner than before\n",
    "\n",
    "To perform Erosion, we need to use a kernel matrix that slides over the image, and within each slide, we need to find the minimum pixel and insert it to each pixel. This effectively shrinks the boundaries of the image"
   ]
  },
  {
   "cell_type": "code",
   "execution_count": 8,
   "metadata": {},
   "outputs": [],
   "source": [
    "def trackbar(x):\n",
    "    n = 2 * x + 1\n",
    "    kernel = np.ones((n , n), np.uint8)\n",
    "    dialated_img = cv.erode(img, kernel, iterations = 1)\n",
    "    stacked_img = np.hstack([img, dialated_img])\n",
    "    cv.imshow('window', stacked_img)\n",
    "\n",
    "img = cv.imread('D:/OpenCV/Assets/newton.jpg', cv.IMREAD_GRAYSCALE)\n",
    "cv.imshow('window', img)\n",
    "cv.createTrackbar('trackbar', 'window', 2, 50, trackbar)\n",
    "cv.waitKey(0)\n",
    "\n",
    "cv.destroyAllWindows()"
   ]
  },
  {
   "cell_type": "markdown",
   "metadata": {},
   "source": [
    "## **1.3 Opening**\n",
    "\n",
    "Opening is the technique of applying combination of erosion followed by a dilation. After performing erosion, the image shrinks down to a certain range, and then applying dilation will make it again to the normal form, this can be useful for removing smaller noises in the image which can be determined by the kernel size of erosion or dilation. It can be used for fine-tuning object boundaries as well."
   ]
  },
  {
   "cell_type": "code",
   "execution_count": 13,
   "metadata": {},
   "outputs": [],
   "source": [
    "def trackbar(x):\n",
    "    n = 2 * x + 1\n",
    "    kernel = np.ones((n , n), np.uint8)\n",
    "    opened_img = cv.morphologyEx(img, cv.MORPH_OPEN, kernel)\n",
    "    stacked_img = np.hstack([img, opened_img])\n",
    "    cv.imshow('window', stacked_img)\n",
    "\n",
    "img = cv.imread('D:/OpenCV/Assets/newton.jpg', cv.IMREAD_GRAYSCALE)\n",
    "cv.imshow('window', img)\n",
    "cv.createTrackbar('trackbar', 'window', 2, 50, trackbar)\n",
    "cv.waitKey(0)\n",
    "\n",
    "cv.destroyAllWindows()"
   ]
  },
  {
   "cell_type": "markdown",
   "metadata": {},
   "source": [
    "## **1.4 Closing**\n",
    "\n",
    "Closing is the opposite of opening where we apply a combination of dilation followed by erosion. It is mostly used for filling the gaps in between an image. Closing first expands the boundaires of the image due to dilation and then shrinks to a certain range based on erosion, the scale of dilation and erosion to be perfomed can be determined based on how we need to fill the gaps and holes in the image."
   ]
  },
  {
   "cell_type": "code",
   "execution_count": 14,
   "metadata": {},
   "outputs": [],
   "source": [
    "def trackbar(x):\n",
    "    n = 2 * x + 1\n",
    "    kernel = np.ones((n , n), np.uint8)\n",
    "    closed_img = cv.morphologyEx(img, cv.MORPH_CLOSE, kernel, iterations = 1)\n",
    "    stacked_img = np.hstack([img, closed_img])\n",
    "    cv.imshow('window', stacked_img)\n",
    "\n",
    "img = cv.imread('D:/OpenCV/Assets/newton.jpg', cv.IMREAD_GRAYSCALE)\n",
    "cv.imshow('window', img)\n",
    "cv.createTrackbar('trackbar', 'window', 2, 50, trackbar)\n",
    "cv.waitKey(0)\n",
    "\n",
    "cv.destroyAllWindows()"
   ]
  },
  {
   "cell_type": "code",
   "execution_count": null,
   "metadata": {},
   "outputs": [],
   "source": []
  }
 ],
 "metadata": {
  "kernelspec": {
   "display_name": "cv-dev",
   "language": "python",
   "name": "python3"
  },
  "language_info": {
   "codemirror_mode": {
    "name": "ipython",
    "version": 3
   },
   "file_extension": ".py",
   "mimetype": "text/x-python",
   "name": "python",
   "nbconvert_exporter": "python",
   "pygments_lexer": "ipython3",
   "version": "3.11.6"
  }
 },
 "nbformat": 4,
 "nbformat_minor": 2
}
