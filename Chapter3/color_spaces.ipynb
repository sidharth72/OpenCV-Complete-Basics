{
 "cells": [
  {
   "cell_type": "markdown",
   "metadata": {},
   "source": [
    "# **1. Color Spaces**\n",
    "\n",
    "Color spaces are those in which the images are represented in opencv. Color spaces are different representation that describes the color in an image. There are different types of color spaces available, some of the include,\n",
    "\n",
    "* **BGR(Blue, Green, Red)**\n",
    "* **HSV(Hue, Saturation, Value)**\n",
    "* **Grayscale**\n",
    "* **RGB(Red, Green, Blue)**"
   ]
  },
  {
   "cell_type": "markdown",
   "metadata": {},
   "source": [
    "## **1.1 HSV Colorspace**\n",
    "\n",
    "HSV is the combination of Hue, Saturation, and Value. Hue represents the color of the pixel, Saturation represents the intensity of the pixel, and value represents the brightness. HSV is the color space which is more interpretable to humans since the way we are seeing colors are similar to the representation of HSV. HSV can be used as a color space for many applications like intensity based filtering, feature extraction, object detection, and others."
   ]
  },
  {
   "cell_type": "code",
   "execution_count": 8,
   "metadata": {},
   "outputs": [],
   "source": [
    "import cv2 as cv\n",
    "import numpy as np\n",
    "\n",
    "img = np.zeros((180, 180, 3), dtype = np.uint8)\n",
    "hsv = cv.cvtColor(img, cv.COLOR_BGR2HSV)\n",
    "\n",
    "for i in range(180):\n",
    "    for j in range(180):\n",
    "        hsv[i, j, 0] = i\n",
    "        hsv[i, j, 1] = j\n",
    "\n",
    "\n",
    "bgr = cv.cvtColor(hsv, cv.COLOR_HSV2BGR)\n",
    "\n",
    "cv.imshow('window', hsv)\n",
    "cv.waitKey(0)\n",
    "cv.destroyAllWindows()"
   ]
  },
  {
   "cell_type": "markdown",
   "metadata": {},
   "source": [
    "## **1.2 Extracting Objects Based on Hue**"
   ]
  },
  {
   "cell_type": "code",
   "execution_count": 17,
   "metadata": {},
   "outputs": [],
   "source": [
    "def trackbar(x):\n",
    "    lower = (x, 30, 30) # The upper range of hue color space\n",
    "    upper = (x + 5, 250, 250) # The lower range of hue color space\n",
    "    mask = cv.inRange(hsv, lower, upper)\n",
    "    img2 = cv.bitwise_and(img, img, mask=mask)\n",
    "    cv.imshow('window', np.vstack([img, img2]))\n",
    "\n",
    "img = cv.imread('D:/OpenCV2/Assets/legos.png')\n",
    "hsv = cv.cvtColor(img, cv.COLOR_BGR2HSV)\n",
    "cv.imshow('window', img)\n",
    "cv.createTrackbar('hue', 'window', 0, 179,trackbar)\n",
    "\n",
    "cv.waitKey(0)\n",
    "cv.destroyAllWindows()\n"
   ]
  }
 ],
 "metadata": {
  "kernelspec": {
   "display_name": "cv-dev",
   "language": "python",
   "name": "python3"
  },
  "language_info": {
   "codemirror_mode": {
    "name": "ipython",
    "version": 3
   },
   "file_extension": ".py",
   "mimetype": "text/x-python",
   "name": "python",
   "nbconvert_exporter": "python",
   "pygments_lexer": "ipython3",
   "version": "3.11.6"
  }
 },
 "nbformat": 4,
 "nbformat_minor": 2
}
