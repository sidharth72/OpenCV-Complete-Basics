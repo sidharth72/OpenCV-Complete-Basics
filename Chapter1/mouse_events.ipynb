{
 "cells": [
  {
   "cell_type": "markdown",
   "metadata": {},
   "source": [
    "# **1. Mouse Events**\n",
    "\n",
    "Mouse events refer to the actions that are performed on a window based on the activity of the mouse. These actions can include left click, right click, middle click, hover, etc."
   ]
  },
  {
   "cell_type": "markdown",
   "metadata": {},
   "source": [
    "## **1.1 Capturing Mouse Events**\n",
    "\n",
    "Capturing mouse events in OpenCV is simple as using the cv.setMouseCallback('window', mouse) method.\n",
    "\n",
    "### **1.1.1 Showing Coordinates**"
   ]
  },
  {
   "cell_type": "code",
   "execution_count": 2,
   "metadata": {},
   "outputs": [],
   "source": [
    "import cv2 as cv\n",
    "\n",
    "def mouse(event, x, y, flags, param):\n",
    "    copy_img = img.copy()\n",
    "    text = f'{x}:{y}'\n",
    "    cv.putText(copy_img, text, org = (80, 200), fontFace = cv.FONT_HERSHEY_SIMPLEX, fontScale = 2, color = (255, 255, 0), thickness = 3)\n",
    "    cv.imshow('window', copy_img)\n",
    "\n",
    "img = cv.imread('D:/OpenCV2/Assets/newton.jpg')\n",
    "cv.imshow('window', img)\n",
    "cv.setMouseCallback('window', mouse)\n",
    "cv.waitKey(0)\n",
    "cv.destroyAllWindows()\n"
   ]
  },
  {
   "cell_type": "markdown",
   "metadata": {},
   "source": [
    "### **1.1.2 Drawing using Mouse**"
   ]
  },
  {
   "cell_type": "code",
   "execution_count": 6,
   "metadata": {},
   "outputs": [],
   "source": [
    "def mouse(event, x, y, flags, param):\n",
    "    \n",
    "    # If left button pressed down\n",
    "    # Flags are used for knowing whether the key is in pressed condition or released\n",
    "    # Meanwhile events are specific for mouse events.\n",
    "    if flags == cv.EVENT_LBUTTONDOWN:\n",
    "        img[y, x] = [255, 0, 0]\n",
    "        cv.imshow('window', img)\n",
    "\n",
    "    # If right button pressed down\n",
    "    elif flags == cv.EVENT_RBUTTONDOWN:\n",
    "        img[y, x] = [0, 255, 0]\n",
    "        cv.imshow('window', img)\n",
    "\n",
    "\n",
    "img = cv.imread('D:/OpenCV2/Assets/newton.jpg')\n",
    "cv.imshow('window', img)\n",
    "cv.setMouseCallback('window', mouse)\n",
    "cv.waitKey(0)\n",
    "cv.destroyAllWindows()\n"
   ]
  },
  {
   "cell_type": "code",
   "execution_count": null,
   "metadata": {},
   "outputs": [],
   "source": []
  }
 ],
 "metadata": {
  "kernelspec": {
   "display_name": "cv-dev",
   "language": "python",
   "name": "python3"
  },
  "language_info": {
   "codemirror_mode": {
    "name": "ipython",
    "version": 3
   },
   "file_extension": ".py",
   "mimetype": "text/x-python",
   "name": "python",
   "nbconvert_exporter": "python",
   "pygments_lexer": "ipython3",
   "version": "3.11.6"
  }
 },
 "nbformat": 4,
 "nbformat_minor": 2
}
