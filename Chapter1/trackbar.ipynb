{
 "cells": [
  {
   "cell_type": "markdown",
   "metadata": {},
   "source": [
    "## **1. Trackbar**\n",
    "\n",
    "Trackbar can be applied on images to produce varying output dynamically within certain ranges."
   ]
  },
  {
   "cell_type": "markdown",
   "metadata": {},
   "source": [
    "### **1.1 Showing text using trackbar**"
   ]
  },
  {
   "cell_type": "code",
   "execution_count": 4,
   "metadata": {},
   "outputs": [],
   "source": [
    "import cv2 as cv\n",
    "\n",
    "img = cv.imread('D:/OpenCV2/Assets/newton.jpg')\n",
    "\n",
    "def trackbar(x):\n",
    "    # Creating copy of the image for avoiding conflit\n",
    "    img_copy = img.copy()\n",
    "    text = str(x)\n",
    "    \n",
    "    cv.putText(\n",
    "        img_copy, \n",
    "        text = text, \n",
    "        org = (80, 100),\n",
    "        fontFace = cv.FONT_HERSHEY_SIMPLEX,\n",
    "        fontScale = 2,\n",
    "        color = (255, 255, 255), \n",
    "        thickness = 3\n",
    "        \n",
    "        )\n",
    "\n",
    "    cv.imshow('window', img_copy)\n",
    "\n",
    "cv.imshow('window', img)\n",
    "cv.createTrackbar('mytrackbar', 'window', 100, 155, trackbar)\n",
    "\n",
    "cv.waitKey(0)\n",
    "cv.destroyAllWindows()\n"
   ]
  },
  {
   "cell_type": "markdown",
   "metadata": {},
   "source": [
    "### **1.2 Adjust Brighness Using Trackbar**"
   ]
  },
  {
   "cell_type": "code",
   "execution_count": 8,
   "metadata": {},
   "outputs": [],
   "source": [
    "import cv2 as cv\n",
    "import numpy as np\n",
    "\n",
    "\n",
    "original_image = cv.imread('D:/OpenCV2/Assets/newton.jpg')\n",
    "\n",
    "def update_brightness(brightness):\n",
    "    modified_image = cv.addWeighted(\n",
    "    src1=original_image,  # The first input array (the original image)\n",
    "    alpha=1,              # Weight of the first input array elements (scalar value for blending)\n",
    "    src2=np.zeros_like(original_image),  # The second input array (an array of zeros with the same shape as the original image)\n",
    "    beta=brightness - 50,  # Weight of the second input array elements (scalar value for blending)\n",
    "    gamma=1.0             # Scalar added to each sum (optional parameter, default value is 0)\n",
    "    )\n",
    "    \n",
    "    cv.imshow('window', modified_image)\n",
    "\n",
    "\n",
    "cv.imshow('window', original_image)\n",
    "initial_brightness = 5\n",
    "cv.createTrackbar(\"Change Brightness\", \"window\", initial_brightness, 1000, update_brightness)\n",
    "cv.waitKey(0)\n",
    "cv.destroyAllWindows()\n"
   ]
  },
  {
   "cell_type": "code",
   "execution_count": null,
   "metadata": {},
   "outputs": [],
   "source": []
  }
 ],
 "metadata": {
  "kernelspec": {
   "display_name": "cv-dev",
   "language": "python",
   "name": "python3"
  },
  "language_info": {
   "codemirror_mode": {
    "name": "ipython",
    "version": 3
   },
   "file_extension": ".py",
   "mimetype": "text/x-python",
   "name": "python",
   "nbconvert_exporter": "python",
   "pygments_lexer": "ipython3",
   "version": "3.11.6"
  }
 },
 "nbformat": 4,
 "nbformat_minor": 2
}
