{
 "cells": [
  {
   "cell_type": "markdown",
   "metadata": {},
   "source": [
    "# **1. Drawing Shapes**\n",
    "\n",
    "This section introduces to draw geometric shapes using OpenCV. Geometric shapes are often important since they depict real-world objects such as circles, squares, rectangles, triangles, and many more. OpenCV provides an easy-to-use module for drawing these shapes."
   ]
  },
  {
   "cell_type": "markdown",
   "metadata": {},
   "source": [
    "## **1.1 Drawing Lines**"
   ]
  },
  {
   "cell_type": "code",
   "execution_count": 17,
   "metadata": {},
   "outputs": [],
   "source": [
    "import cv2 as cv\n",
    "import numpy as np\n",
    "\n",
    "img = np.zeros((300, 400, 3), np.uint8)\n",
    "\n",
    "p0 = (10, 10)\n",
    "p1 = (300, 90)\n",
    "p2 = (300, 40)\n",
    "\n",
    "cv.line(img, p0, p1, color = (0, 255, 0), thickness=3)\n",
    "cv.line(img, p1, p2, color = (255, 0, 0), thickness=3)\n",
    "cv.line(img, p2, p0, color = (0, 0, 255), thickness=3)\n",
    "\n",
    "cv.imshow('window', img)\n",
    "cv.waitKey(0)\n",
    "cv.destroyAllWindows()"
   ]
  },
  {
   "cell_type": "markdown",
   "metadata": {},
   "source": [
    "### **1.1.1 Thickenss of the line using Trackbar**"
   ]
  },
  {
   "cell_type": "code",
   "execution_count": 10,
   "metadata": {},
   "outputs": [],
   "source": [
    "\n",
    "def trackbar(x):\n",
    "    global thickness\n",
    "    thickness = x\n",
    "    copy_img = img.copy()\n",
    "    p0 = (10, 10)\n",
    "    p1 = (300, 90)\n",
    "    p2 = (300, 40)\n",
    "\n",
    "    cv.line(copy_img, p0, p1, color = (0, 255, 0), thickness=thickness)\n",
    "    cv.line(copy_img, p1, p2, color = (255, 0, 0), thickness=thickness)\n",
    "    cv.line(copy_img, p2, p0, color = (0, 0, 255), thickness=thickness)\n",
    "\n",
    "    cv.imshow('window', copy_img)\n",
    "\n",
    "\n",
    "thickness = 1\n",
    "img = np.zeros((332, 400, 3), np.uint8)\n",
    "cv.imshow('window', img)\n",
    "cv.createTrackbar('thickness', 'window', 2, 100, trackbar)\n",
    "cv.waitKey(0)\n",
    "cv.destroyAllWindows()"
   ]
  },
  {
   "cell_type": "markdown",
   "metadata": {},
   "source": [
    "### **1.1.2 Select end-point with mouse**"
   ]
  },
  {
   "cell_type": "code",
   "execution_count": 16,
   "metadata": {},
   "outputs": [],
   "source": [
    "def mouse(event, x, y, flags, param):\n",
    "    copy_img = img.copy()\n",
    "    if event == cv.EVENT_LBUTTONDOWN:\n",
    "        cv.line(copy_img, (0, 0), (x, y), color = (0, 255, 0), thickness=4)\n",
    "        cv.imshow('window', copy_img)\n",
    "    \n",
    "    if event == cv.EVENT_RBUTTONDOWN:\n",
    "        cv.line(copy_img, (0, copy_img.shape[1]), (x, y), color = (0, 0, 255), thickness=4)\n",
    "        cv.imshow('window', copy_img)\n",
    "\n",
    "    if event == cv.EVENT_MBUTTONDOWN:\n",
    "        cv.line(copy_img, (0, 0), (x, y), color = (255, 0, 0), thickness = 4)\n",
    "        cv.imshow('window', copy_img)\n",
    "\n",
    "img = np.zeros((300, 400, 3), np.uint8)\n",
    "cv.imshow('window', img)\n",
    "\n",
    "cv.setMouseCallback('window', mouse)\n",
    "cv.waitKey(0)\n",
    "\n",
    "cv.destroyAllWindows()"
   ]
  },
  {
   "cell_type": "markdown",
   "metadata": {},
   "source": [
    "## **1.2 Drawing Rectangle**"
   ]
  },
  {
   "cell_type": "code",
   "execution_count": 20,
   "metadata": {},
   "outputs": [],
   "source": [
    "def trackbar(x):\n",
    "    copy_img = img.copy()\n",
    "    thickness = x\n",
    "\n",
    "    # Making filled when the values is less than or equal to zero\n",
    "    if x <= 0:\n",
    "        thickness = cv.FILLED\n",
    "    cv.rectangle(copy_img, (90, 100), (300, 200), color=(0, 255, 0), thickness=thickness)\n",
    "    cv.imshow('window', copy_img)\n",
    "\n",
    "img = np.zeros((400, 600, 3), np.uint8)\n",
    "cv.imshow('window', img)\n",
    "cv.createTrackbar('trackbar', 'window', 2, 10, trackbar)\n",
    "cv.waitKey(0)\n",
    "cv.destroyAllWindows()"
   ]
  },
  {
   "cell_type": "markdown",
   "metadata": {},
   "source": [
    "## **1.3 Drawing Circle**"
   ]
  },
  {
   "cell_type": "code",
   "execution_count": 29,
   "metadata": {},
   "outputs": [],
   "source": [
    "def trackbar(x):\n",
    "    copy_img = img.copy()\n",
    "    thickness = x\n",
    "\n",
    "    # Making filled when the values is less than or equal to zero\n",
    "    if x <= 0:\n",
    "        thickness = cv.FILLED\n",
    "    cv.circle(copy_img, center=(150, 200), radius = x * 10, color=(0, 255, 0), thickness=thickness)\n",
    "    cv.imshow('window', copy_img)\n",
    "\n",
    "img = np.zeros((400, 600, 3), np.uint8)\n",
    "cv.imshow('window', img)\n",
    "cv.createTrackbar('trackbar', 'window', 2, 10, trackbar)\n",
    "cv.waitKey(0)\n",
    "cv.destroyAllWindows()"
   ]
  },
  {
   "cell_type": "markdown",
   "metadata": {},
   "source": [
    "## **1.4 Drawing Ellipse**"
   ]
  },
  {
   "cell_type": "code",
   "execution_count": 45,
   "metadata": {},
   "outputs": [],
   "source": [
    "def trackbar(x):\n",
    "    copy_img = img.copy()\n",
    "    thickness = x\n",
    "\n",
    "    # Making filled when the values is less than or equal to zero\n",
    "    if x <= 0:\n",
    "        thickness = cv.FILLED\n",
    "    cv.ellipse(copy_img, center=(350, 200), axes = (200, 50), angle = 20, startAngle=0, endAngle=360, color=(0, 255, 0), thickness=thickness)\n",
    "    cv.imshow('window', copy_img)\n",
    "\n",
    "img = np.zeros((400, 600, 3), np.uint8)\n",
    "cv.imshow('window', img)\n",
    "cv.createTrackbar('trackbar', 'window', 2, 10, trackbar)\n",
    "cv.waitKey(0)\n",
    "cv.destroyAllWindows()"
   ]
  },
  {
   "cell_type": "markdown",
   "metadata": {},
   "source": [
    "## **1.5 Drawing Polygons**"
   ]
  },
  {
   "cell_type": "code",
   "execution_count": 57,
   "metadata": {},
   "outputs": [],
   "source": [
    "img = np.zeros((300, 400, 3), np.uint8)\n",
    "\n",
    "# Adding more points will give more faced polygons\n",
    "\n",
    "points = np.array([[50, 50], [300, 190], [400, 10], [200, 50]], dtype=np.int32)\n",
    "\n",
    "cv.polylines(img, pts=[points], isClosed = True, color = (0, 255, 0), thickness = 4)\n",
    "cv.imshow('window', img)\n",
    "\n",
    "cv.waitKey(0)\n",
    "cv.destroyAllWindows()"
   ]
  },
  {
   "cell_type": "code",
   "execution_count": null,
   "metadata": {},
   "outputs": [],
   "source": []
  }
 ],
 "metadata": {
  "kernelspec": {
   "display_name": "cv-dev",
   "language": "python",
   "name": "python3"
  },
  "language_info": {
   "codemirror_mode": {
    "name": "ipython",
    "version": 3
   },
   "file_extension": ".py",
   "mimetype": "text/x-python",
   "name": "python",
   "nbconvert_exporter": "python",
   "pygments_lexer": "ipython3",
   "version": "3.11.6"
  }
 },
 "nbformat": 4,
 "nbformat_minor": 2
}
